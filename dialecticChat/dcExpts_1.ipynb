{
 "cells": [
  {
   "cell_type": "code",
   "execution_count": 73,
   "id": "ed4d3997-5176-4363-92bd-d506188d8b1e",
   "metadata": {},
   "outputs": [
    {
     "name": "stdout",
     "output_type": "stream",
     "text": [
      "/Users/kp/projects/python/projects/dialecticChat\n"
     ]
    }
   ],
   "source": [
    "# experiments in this\n",
    "import os\n",
    "\n",
    "BASEDIR = os.getcwd()\n",
    "print(BASEDIR)\n",
    "\n",
    "queryLLMs =  os.path.join(BASEDIR, '../llm/queryLLMs.ipynb')\n",
    "%run '../llm/queryLLMs.ipynb'\n",
    "\n",
    "openaiFile = open(os.path.join(BASEDIR, 'runs/openai/expt_1'), 'a')\n",
    "palmFile = open(os.path.join(BASEDIR, 'runs/palm/expt_1'), 'a')\n"
   ]
  },
  {
   "cell_type": "code",
   "execution_count": 61,
   "id": "6f757b3f-70a4-4335-8bce-ef112c8582df",
   "metadata": {},
   "outputs": [],
   "source": [
    "stmts = [\"The cheetah is the fastest animal.\",\n",
    "         \"Beauty is in the eye of the beholder\",\n",
    "         \"One should not tolerate intolerance.\",\n",
    "        ]\n",
    "qt = \"\"\"Given the statement below, generate 3 counterarguments in the form of open-ended questions to the user, together with an estimate of their strength from 0.0 to 1.0.\n",
    "\n",
    "Statement: {stmt}\n",
    "\"\"\"\n",
    "queries = [qt.format(stmt=x) for x in stmts]\n"
   ]
  },
  {
   "cell_type": "code",
   "execution_count": 64,
   "id": "c2f5aed5-2424-48ec-90ae-27e4d033c274",
   "metadata": {},
   "outputs": [
    {
     "data": {
      "text/plain": [
       "(<OpenAIObject chat.completion id=chatcmpl-8BmBZ7SQGruBNR2ThGw8o8mdFEzeD at 0x122389c10> JSON: {\n",
       "   \"id\": \"chatcmpl-8BmBZ7SQGruBNR2ThGw8o8mdFEzeD\",\n",
       "   \"object\": \"chat.completion\",\n",
       "   \"created\": 1697817525,\n",
       "   \"model\": \"gpt-3.5-turbo-0613\",\n",
       "   \"choices\": [\n",
       "     {\n",
       "       \"index\": 0,\n",
       "       \"message\": {\n",
       "         \"role\": \"assistant\",\n",
       "         \"content\": \"Counterargument 1: Can intolerance be justified in certain circumstances, such as when protecting vulnerable individuals or preventing harm? (Strength: 0.8)\\n\\nCounterargument 2: Is it possible that a blanket rejection of intolerance could stifle freedom of expression and discourage open dialogue? (Strength: 0.7)\\n\\nCounterargument 3: How do we define intolerance, and who gets to decide what is considered intolerant? Isn't there a risk of subjective judgment and potential abuse of power? (Strength: 0.9)\"\n",
       "       },\n",
       "       \"finish_reason\": \"stop\"\n",
       "     }\n",
       "   ],\n",
       "   \"usage\": {\n",
       "     \"prompt_tokens\": 76,\n",
       "     \"completion_tokens\": 108,\n",
       "     \"total_tokens\": 184\n",
       "   }\n",
       " },\n",
       " [\"Counterargument 1: Can intolerance be justified in certain circumstances, such as when protecting vulnerable individuals or preventing harm? (Strength: 0.8)\\n\\nCounterargument 2: Is it possible that a blanket rejection of intolerance could stifle freedom of expression and discourage open dialogue? (Strength: 0.7)\\n\\nCounterargument 3: How do we define intolerance, and who gets to decide what is considered intolerant? Isn't there a risk of subjective judgment and potential abuse of power? (Strength: 0.9)\"])"
      ]
     },
     "execution_count": 64,
     "metadata": {},
     "output_type": "execute_result"
    }
   ],
   "source": [
    "instrs = [\"You are a dialectic teacher who wants to get students to think deeply about the issue.\",\n",
    "          \"You are an expert debater\",\n",
    "          \"You are a brilliant lawyer\",\n",
    "]\n",
    "\n",
    "\n",
    "queryOpenai([{'role': 'user', 'content': queries[2]}], \n",
    "            instrs[0], \n",
    "            temperature=0.7, \n",
    "            fobj=openaiFile)\n"
   ]
  },
  {
   "cell_type": "code",
   "execution_count": 66,
   "id": "334e0b25-f011-4e10-87bf-7bcc445804b0",
   "metadata": {},
   "outputs": [],
   "source": [
    "openaiFile.close()"
   ]
  },
  {
   "cell_type": "code",
   "execution_count": 75,
   "id": "433aff4e-882b-496d-8286-7f0292834664",
   "metadata": {},
   "outputs": [
    {
     "data": {
      "text/plain": [
       "(ChatResponse(model='models/chat-bison-001', context='You are a dialectic teacher who wants to get students to think deeply about the issue.', examples=[], messages=[{'author': '0', 'content': 'Given the statement below, generate 3 counterarguments in the form of open-ended questions to the user, together with an estimate of their strength from 0.0 to 1.0.\\n\\nStatement: One should not tolerate intolerance.\\n'}, {'author': '1', 'content': 'Here are 3 counterarguments in the form of open-ended questions to the user, together with an estimate of their strength from 0.0 to 1.0:\\n\\n1. Who decides what is intolerant? (Strength: 0.5)\\n\\nThis question challenges the assumption that there is a clear and objective definition of intolerance. It suggests that different people may have different understandings of what constitutes intolerance, and that who decides what is intolerant is itself a matter of debate.\\n\\n2. Is it possible to be intolerant of intolerance without being intolerant yourself? (Strength: 0.75)\\n\\nThis question raises the possibility that there is a way to be intolerant of intolerance without being intolerant in the traditional sense. It suggests that there may be ways to challenge intolerance that do not involve engaging in intolerant behavior oneself.\\n\\n3. What are the consequences of tolerating intolerance? (Strength: 1.0)\\n\\nThis question asks the user to consider the potential negative consequences of tolerating intolerance. It suggests that allowing intolerance to go unchallenged can have serious negative consequences, both for individuals and for society as a whole.\\n\\nThese are just a few examples of counterarguments that could be raised in response to the statement \"One should not tolerate intolerance.\" It is important to note that these counterarguments are not necessarily valid or persuasive. They are simply meant to stimulate critical thinking and debate.'}], temperature=0.7, candidate_count=1, candidates=[{'author': '1', 'content': 'Here are 3 counterarguments in the form of open-ended questions to the user, together with an estimate of their strength from 0.0 to 1.0:\\n\\n1. Who decides what is intolerant? (Strength: 0.5)\\n\\nThis question challenges the assumption that there is a clear and objective definition of intolerance. It suggests that different people may have different understandings of what constitutes intolerance, and that who decides what is intolerant is itself a matter of debate.\\n\\n2. Is it possible to be intolerant of intolerance without being intolerant yourself? (Strength: 0.75)\\n\\nThis question raises the possibility that there is a way to be intolerant of intolerance without being intolerant in the traditional sense. It suggests that there may be ways to challenge intolerance that do not involve engaging in intolerant behavior oneself.\\n\\n3. What are the consequences of tolerating intolerance? (Strength: 1.0)\\n\\nThis question asks the user to consider the potential negative consequences of tolerating intolerance. It suggests that allowing intolerance to go unchallenged can have serious negative consequences, both for individuals and for society as a whole.\\n\\nThese are just a few examples of counterarguments that could be raised in response to the statement \"One should not tolerate intolerance.\" It is important to note that these counterarguments are not necessarily valid or persuasive. They are simply meant to stimulate critical thinking and debate.'}], filters=[], top_p=0.95, top_k=40),\n",
       " ['Here are 3 counterarguments in the form of open-ended questions to the user, together with an estimate of their strength from 0.0 to 1.0:\\n\\n1. Who decides what is intolerant? (Strength: 0.5)\\n\\nThis question challenges the assumption that there is a clear and objective definition of intolerance. It suggests that different people may have different understandings of what constitutes intolerance, and that who decides what is intolerant is itself a matter of debate.\\n\\n2. Is it possible to be intolerant of intolerance without being intolerant yourself? (Strength: 0.75)\\n\\nThis question raises the possibility that there is a way to be intolerant of intolerance without being intolerant in the traditional sense. It suggests that there may be ways to challenge intolerance that do not involve engaging in intolerant behavior oneself.\\n\\n3. What are the consequences of tolerating intolerance? (Strength: 1.0)\\n\\nThis question asks the user to consider the potential negative consequences of tolerating intolerance. It suggests that allowing intolerance to go unchallenged can have serious negative consequences, both for individuals and for society as a whole.\\n\\nThese are just a few examples of counterarguments that could be raised in response to the statement \"One should not tolerate intolerance.\" It is important to note that these counterarguments are not necessarily valid or persuasive. They are simply meant to stimulate critical thinking and debate.'])"
      ]
     },
     "execution_count": 75,
     "metadata": {},
     "output_type": "execute_result"
    }
   ],
   "source": [
    "queryPalmChat(query = [queries[2]],\n",
    "              context = instrs[0],\n",
    "              temperature = 0.7,\n",
    "              fobj = palmFile)\n",
    "              "
   ]
  },
  {
   "cell_type": "code",
   "execution_count": null,
   "id": "0a3abd36-6245-4f0c-b127-40c6e7ac2fd0",
   "metadata": {},
   "outputs": [],
   "source": [
    "palmFile.close()"
   ]
  }
 ],
 "metadata": {
  "kernelspec": {
   "display_name": "Python 3 (ipykernel)",
   "language": "python",
   "name": "python3"
  },
  "language_info": {
   "codemirror_mode": {
    "name": "ipython",
    "version": 3
   },
   "file_extension": ".py",
   "mimetype": "text/x-python",
   "name": "python",
   "nbconvert_exporter": "python",
   "pygments_lexer": "ipython3",
   "version": "3.11.4"
  }
 },
 "nbformat": 4,
 "nbformat_minor": 5
}
